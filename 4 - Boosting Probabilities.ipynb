{
 "cells": [
  {
   "cell_type": "markdown",
   "id": "fda75d18",
   "metadata": {},
   "source": [
    "# Testing boosting methods\n",
    "\n",
    "_This notebook was developed by Ana Filipa Carvalho._\n",
    "\n",
    "This jupyter notebook is the last part of a series of notebooks that contain code to generate the results of this [REFERENCE] paper. Here we focus on boosting probabilities.\n",
    "\n",
    "For that, there are two options:\n",
    "1. Modified an adjancency matrix: play with the random epsilon value in *is_isomorphic_p()* (or *is_isomorphic_l()*) function.\n",
    "2. Hacking the adjacency matrix: multiplying a column of the matrix corresponding to the node with lowest connectivity by a value $w$.\n",
    "\n",
    "As usual, we will start with some imports and the auxiliary functions."
   ]
  },
  {
   "cell_type": "code",
   "execution_count": 4,
   "id": "14268f57",
   "metadata": {},
   "outputs": [],
   "source": [
    "import numpy as np\n",
    "import networkx as nx\n",
    "\n",
    "import perceval as pcvl\n",
    "from perceval.algorithm import Sampler\n",
    "import perceval.components as comp\n",
    "\n",
    "import quandelibc as qc\n",
    "\n",
    "import importlib"
   ]
  },
  {
   "cell_type": "code",
   "execution_count": 5,
   "id": "fce1e6cb",
   "metadata": {},
   "outputs": [],
   "source": [
    "A = np.array([[0, 1, 1, 1, 1, 0],\n",
    "              [1, 0, 1, 1, 1, 1],\n",
    "              [1, 1, 0, 1, 1, 0],\n",
    "              [1, 1, 1, 0, 1, 0],\n",
    "              [1, 1, 1, 1, 0, 0],\n",
    "              [0, 1, 0, 0, 0, 0]])"
   ]
  },
  {
   "cell_type": "markdown",
   "id": "4d97e282",
   "metadata": {},
   "source": [
    "Import of the file with the basic and auxiliary functions."
   ]
  },
  {
   "cell_type": "code",
   "execution_count": 6,
   "id": "bbea5b94",
   "metadata": {},
   "outputs": [],
   "source": [
    "import functions"
   ]
  },
  {
   "cell_type": "markdown",
   "id": "038fcd1c",
   "metadata": {},
   "source": [
    "Here we define again *perm_estimation()* function because there is a detail to consider when boosting by hacking the adjacency matrix and here it prints a warning."
   ]
  },
  {
   "cell_type": "code",
   "execution_count": 10,
   "id": "1e39b22b",
   "metadata": {},
   "outputs": [],
   "source": [
    "def perm_estimation(G, nb_samples, Ns_min=0):\n",
    "    if Ns_min == 0:\n",
    "        Ns_min = nb_samples\n",
    "\n",
    "    if type(G) == type(nx.Graph()):  # if we input the graph directly instead of the matrix, NetworkX will output a slightly different matrix leading to wrong results!\n",
    "        m = G.number_of_nodes()\n",
    "        print(\"Inputing a graph from a modified adjacency matrix might lead to wrong results! We advice to use the adjacency matrix directly.\")\n",
    "    else:\n",
    "        m = len(G)\n",
    "    #print(\"number of nodes\", m); print(inputState)\n",
    "    in_state = functions.input_state(m)\n",
    "\n",
    "    U, c = functions.to_unitary(G)\n",
    "    U_matrix_pcvl = pcvl.Matrix(U)\n",
    "    unitary_component = comp.Unitary(U_matrix_pcvl)\n",
    "    proc = pcvl.Processor(\"CliffordClifford2017\", unitary_component)\n",
    "    proc.with_input(pcvl.BasicState(in_state))\n",
    "\n",
    "    samples_accepted = []\n",
    "    i = 0\n",
    "    sampler = Sampler(proc)\n",
    "    while len(samples_accepted) < Ns_min:\n",
    "        L = list(sampler.samples(nb_samples)['results'])\n",
    "        # samples_accepted.append(L)\n",
    "        # samples_accepted = functions.post_select(samples_accepted)\n",
    "        samples_accepted += functions.post_select(L)\n",
    "        #if (i%10) == 0: print(\"iteration\", i, \"samples post-selected\", len(samples_accepted))\n",
    "        i = i+1\n",
    "    print(\"Total number of samples: \", nb_samples*i)\n",
    "    print(\"Number of samples post:\", len(samples_accepted))\n",
    "    perm = (c**m)*np.sqrt(len(samples_accepted)/(nb_samples*i))\n",
    "    return perm"
   ]
  },
  {
   "cell_type": "markdown",
   "id": "b3a18b22",
   "metadata": {},
   "source": [
    "## Hacking the adjacency matrix\n",
    "\n",
    "Here you can test the effect of hacking the adjacency matrix. Be carefull how you handle this, NetworkX might not handle very well this type of modified adjacency matrices.\n",
    "\n",
    "Here we test for the graph on the following cell:"
   ]
  },
  {
   "cell_type": "code",
   "execution_count": 8,
   "id": "6aa2b009",
   "metadata": {},
   "outputs": [
    {
     "data": {
      "image/png": "[encoded data removed]",
      "text/plain": [
       "<Figure size 432x288 with 1 Axes>"
      ]
     },
     "metadata": {},
     "output_type": "display_data"
    }
   ],
   "source": [
    "A = np.array([[0, 1, 1, 1, 1, 0],\n",
    "              [1, 0, 1, 1, 1, 1],\n",
    "              [1, 1, 0, 1, 1, 0],\n",
    "              [1, 1, 1, 0, 1, 0],\n",
    "              [1, 1, 1, 1, 0, 0],\n",
    "              [0, 1, 0, 0, 0, 0]])\n",
    "nx.draw(nx.from_numpy_array(A))"
   ]
  },
  {
   "cell_type": "code",
   "execution_count": 11,
   "id": "953984af",
   "metadata": {},
   "outputs": [
    {
     "name": "stdout",
     "output_type": "stream",
     "text": [
      "Total number of samples:  25940000\n",
      "Number of samples post: 100\n",
      "CPU times: user 1h 23min 7s, sys: 2.87 s, total: 1h 23min 10s\n",
      "Wall time: 1h 23min 25s\n"
     ]
    },
    {
     "data": {
      "text/plain": [
       "8.682188077969531"
      ]
     },
     "execution_count": 11,
     "metadata": {},
     "output_type": "execute_result"
    }
   ],
   "source": [
    "%%time\n",
    "B = np.copy(A)\n",
    "B[5] = B[5]*1\n",
    "perm_estimation(B, 10000, Ns_min=100)/1"
   ]
  },
  {
   "cell_type": "code",
   "execution_count": 12,
   "id": "04f19a13",
   "metadata": {},
   "outputs": [
    {
     "name": "stdout",
     "output_type": "stream",
     "text": [
      "Total number of samples:  8030700\n",
      "Number of samples post: 100\n",
      "8.934562694342244\n",
      "CPU times: user 25min 58s, sys: 1.23 s, total: 25min 59s\n",
      "Wall time: 26min 4s\n"
     ]
    }
   ],
   "source": [
    "%%time\n",
    "B = np.copy(A)\n",
    "B[5] = B[5]*2\n",
    "a = perm_estimation(B, 100)/2\n",
    "print(a)"
   ]
  },
  {
   "cell_type": "code",
   "execution_count": 15,
   "id": "8d74b245",
   "metadata": {},
   "outputs": [
    {
     "name": "stdout",
     "output_type": "stream",
     "text": [
      "Total number of samples:  6300200\n",
      "Number of samples post: 100\n",
      "9.270049452732472\n",
      "CPU times: user 19min 56s, sys: 1.24 s, total: 19min 58s\n",
      "Wall time: 20min 8s\n"
     ]
    }
   ],
   "source": [
    "%%time\n",
    "B = np.copy(A)\n",
    "B[5] = B[5]*3\n",
    "a = perm_estimation(B, 100)/3\n",
    "print(a)"
   ]
  },
  {
   "cell_type": "code",
   "execution_count": 16,
   "id": "7486281f",
   "metadata": {},
   "outputs": [
    {
     "name": "stdout",
     "output_type": "stream",
     "text": [
      "Total number of samples:  15262200\n",
      "Number of samples post: 100\n",
      "8.295127763375197\n",
      "CPU times: user 48min 51s, sys: 2.94 s, total: 48min 54s\n",
      "Wall time: 49min 19s\n"
     ]
    }
   ],
   "source": [
    "%%time\n",
    "B = np.copy(A)\n",
    "B[5] = B[5]*4\n",
    "a = perm_estimation(B, 100)/4\n",
    "print(a)"
   ]
  },
  {
   "cell_type": "code",
   "execution_count": 13,
   "id": "c11b15fe",
   "metadata": {},
   "outputs": [
    {
     "name": "stdout",
     "output_type": "stream",
     "text": [
      "Total number of samples:  40049000\n",
      "Number of samples post: 100\n",
      "9.42719789842458\n",
      "CPU times: user 2h 9min 37s, sys: 6.29 s, total: 2h 9min 43s\n",
      "Wall time: 2h 10min 9s\n"
     ]
    }
   ],
   "source": [
    "%%time\n",
    "B = np.copy(A)\n",
    "B[5] = B[5]*5\n",
    "a = perm_estimation(B, 100)/5\n",
    "print(a)"
   ]
  },
  {
   "cell_type": "markdown",
   "id": "a38a63f5",
   "metadata": {},
   "source": [
    "The results from these last cells reproduce the results for the boosting table in the paper. \n",
    "\n",
    "Here we focused on hacking the adjacency matrix as it is the main point for boosting and leave the second method of boosting (varying epsilon values) to the reader to test. This concludes this series of notebooks."
   ]
  }
 ],
 "metadata": {
  "interpreter": {
   "hash": "765bd6793ea5362367183dba09c599ce34c84eeeb7f3172847d560f9d0858670"
  },
  "kernelspec": {
   "display_name": "Python 3 (ipykernel)",
   "language": "python",
   "name": "python3"
  },
  "language_info": {
   "codemirror_mode": {
    "name": "ipython",
    "version": 3
   },
   "file_extension": ".py",
   "mimetype": "text/x-python",
   "name": "python",
   "nbconvert_exporter": "python",
   "pygments_lexer": "ipython3",
   "version": "3.9.12"
  }
 },
 "nbformat": 4,
 "nbformat_minor": 5
}
