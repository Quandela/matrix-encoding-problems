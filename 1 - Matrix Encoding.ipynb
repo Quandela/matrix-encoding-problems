{
 "cells": [
  {
   "cell_type": "markdown",
   "metadata": {},
   "source": [
    "# Matrix Encoding and Permanent Estimation\n",
    "\n",
    "_This notebook was developed by Ana Filipa Carvalho._\n",
    "\n",
    "This notebook is part of a series of notebooks with the code to reproduce results from this [REFERENCE] paper. This first contains the initial steps namely the encoding function *to_unitary()* and permanent estimation. In order to do that, the notebook is organised as follows:\n",
    "- Random graph generation (to test our encoding function and later to be used to test algorithms for applications).\n",
    "- *to_unitary()* function\n",
    "- State preparation and post-selection (for permanent estimation).\n",
    "- *perm_estimation()* function to estimate the permanent and obtain some statistics around it (estimation with increase of edge connectivity, ...).\n",
    "\n",
    "To run these notebooks, you will need to install **Perceval**, a software tool developed by Quandela that we use to simulate the photonic device."
   ]
  },
  {
   "cell_type": "code",
   "execution_count": 1,
   "metadata": {},
   "outputs": [],
   "source": [
    "import numpy as np\n",
    "from numpy import linalg\n",
    "from scipy.linalg import sqrtm\n",
    "\n",
    "import networkx as nx\n",
    "\n",
    "import perceval as pcvl\n",
    "import perceval.components as comp\n",
    "from perceval.algorithm import Sampler\n",
    "\n",
    "import quandelibc as qc\n",
    "import matplotlib.pyplot as plt\n"
   ]
  },
  {
   "cell_type": "code",
   "execution_count": 2,
   "metadata": {},
   "outputs": [],
   "source": [
    "def random_graph_generation(n_nodes, p1, n_densest=0, p2=0):\n",
    "    '''Generates a random graph with:\n",
    "           .n_nodes as number of nodes and edge connectivity determined by probability p1\n",
    "           .n_densest - a subgraph of size n_densest with edge conections given by p2\n",
    "    '''\n",
    "    G1 = nx.Graph()\n",
    "    G1.add_nodes_from([k for k in range(n_nodes-n_densest)])\n",
    "\n",
    "    # adding edges with probability p1 for the given nodes\n",
    "    for i in range(n_nodes-n_densest):\n",
    "        for j in range(i + 1, n_nodes-n_densest):\n",
    "            r = np.random.random()\n",
    "            if r < p1:\n",
    "                G1.add_edge(i, j)\n",
    "\n",
    "    # adding edges with probability p2 for selected nodes with probability p2\n",
    "    G2 = nx.Graph()\n",
    "    G2.add_nodes_from([k for k in range(n_nodes-n_densest, n_nodes)])\n",
    "\n",
    "    # adding edges with probability p1 for the given nodes\n",
    "    for i in range(n_nodes-n_densest, n_nodes):\n",
    "        for j in range(i+1, n_nodes):\n",
    "            r = np.random.random()\n",
    "            if r < p2:\n",
    "                G2.add_edge(i, j)\n",
    "\n",
    "    G = nx.compose(G1, G2)\n",
    "    if n_densest != 0:\n",
    "        #n_connect=round(min(n_densest, n_nodes-n_densest)/2)+1\n",
    "        n_connect = round(n_densest/2)+1\n",
    "        for i in range(n_connect):\n",
    "            node1 = np.random.randint(n_nodes-n_densest)\n",
    "            node2 = np.random.randint(n_nodes-n_densest, n_nodes)\n",
    "            G.add_edge(node1, node2)\n",
    "\n",
    "    # so there is not isolated parts\n",
    "    if list(nx.isolates(G)) != [] or len(list(G.subgraph(c) for c in nx.connected_components(G))) > 1:\n",
    "        G1.clear()\n",
    "        G2.clear()\n",
    "        G.clear()\n",
    "        G = random_graph_generation(n_nodes, p1, n_densest, p2)\n",
    "\n",
    "    return G\n"
   ]
  },
  {
   "cell_type": "markdown",
   "metadata": {},
   "source": [
    "We construct *AdjToUnit()* now. Considering the singular value decomposition of $A$, from the theory part in the paper we have that if $$A=U\\Sigma V^T \\text{ and } s=\\sigma_{max}(A)$$\n",
    "then we can embed $A$ into a doubled-size unitary $U_A$ with the form:\n",
    "$$U_A:=\\begin{pmatrix}\n",
    "A_s & \\sqrt{I_{n \\times n} -A_s(A_s)^{T}} \\\\\n",
    "\\sqrt{I_{n \\times n} -(A_s)^{T}A_s}  & -(A_s)^{T}\\\\\n",
    "\\end{pmatrix}$$"
   ]
  },
  {
   "cell_type": "code",
   "execution_count": 3,
   "metadata": {},
   "outputs": [],
   "source": [
    "def to_unitary(A):\n",
    "    ''' Input: graph A either as:\n",
    "                                 an adjacency matrix of size mxm\n",
    "                                 a networkX graph with m nodes\n",
    "        Output: unitary with size 2mx2m\n",
    "    '''\n",
    "\n",
    "    if type(A) == type(nx.Graph()):\n",
    "        A = nx.to_numpy_array(A)\n",
    "    P1, D, V = linalg.svd(A)\n",
    "\n",
    "    c = np.max(D)\n",
    "    # if it is not complex, then np.sqrt will output nan in complex values\n",
    "    An = np.matrix(A/c, dtype=complex)\n",
    "    P = An\n",
    "    m = len(An)\n",
    "    Q = sqrtm(np.identity(m)-np.dot(An, An.conj().T))\n",
    "    R = sqrtm(np.identity(m)-np.dot(An.conj().T, An))\n",
    "    S = -An.conj().T\n",
    "    Ubmat = np.bmat([[P, Q], [R, S]])\n",
    "    Ubmat = Ubmat.real #to eliminate those \n",
    "    return (np.copy(Ubmat), c)\n"
   ]
  },
  {
   "cell_type": "markdown",
   "metadata": {},
   "source": [
    "With *to_unitary()* defined, now we can estimate the permanent of a graph by generating samples. Following the schematic on figure below, we create functions *input_state()* and *post_select()* to preparate the initial state and select the appropriate ones at the output. Finally, everything is combined in *perm_estimation()* function. \n",
    "\n",
    "![BS encoding scheme](BSdevice_graphs.png)"
   ]
  },
  {
   "cell_type": "code",
   "execution_count": 4,
   "metadata": {},
   "outputs": [
    {
     "data": {
      "text/plain": [
       "array([1, 1, 1, 1, 0, 0, 0, 0])"
      ]
     },
     "execution_count": 4,
     "metadata": {},
     "output_type": "execute_result"
    }
   ],
   "source": [
    "def input_state(m):\n",
    "    '''input state for selection of our m modes\n",
    "        returns |1,1,1,...,0,0,0> m ones and m zeros'''\n",
    "    return np.append(np.ones(m), np.zeros(m)).astype(int)\n",
    "\n",
    "input_state(4)\n"
   ]
  },
  {
   "cell_type": "code",
   "execution_count": 5,
   "metadata": {},
   "outputs": [],
   "source": [
    "# Post selection of samples with photons only on first half modes\n",
    "def post_select(samples):\n",
    "    ''''post select on states that have all modes from m to 2*m as vacuum\n",
    "        can't have collision of first half'''\n",
    "    a = []\n",
    "    m = int(len(samples[0])/2)\n",
    "    for state in samples:\n",
    "        state = list(state)\n",
    "        if all(ele == state[m-1] for ele in state[:m]) and state[m-1] == 1:\n",
    "            # do not need to check if there is vacuum in the second half for several reasons!\n",
    "            a.append(state)\n",
    "    return a"
   ]
  },
  {
   "cell_type": "markdown",
   "metadata": {},
   "source": [
    "Computing the permanent estimation by generating samples.\n",
    "\n",
    "$$permE(A)=s^n PermE(A_s)=s^n\\sqrt{\\frac{ \\text{Accepted samples} }{\\text{Total number of samples}}}$$"
   ]
  },
  {
   "cell_type": "code",
   "execution_count": 6,
   "metadata": {},
   "outputs": [],
   "source": [
    "def perm_estimation(G, nb_samples, Ns_min=0):\n",
    "    '''Function to estimate the permanent given a graph G, a number of samples Ns and the minimum number of samples Ns_min\n",
    "    Recal that Ns is the number of samples to generate but, due to post-selection, we add Ns_min so that we don't do estimations with accepted samples to be zero\n",
    "    '''\n",
    "    if Ns_min == 0:\n",
    "        Ns_min = Ns\n",
    "\n",
    "    #Sampling_Backend = pcvl.BackendFactory().get_backend(\"SLOS\")\n",
    "    m = G.number_of_nodes()\n",
    "    in_state = input_state(m)\n",
    "\n",
    "    U, c = to_unitary(G)\n",
    "    U_matrix_pcvl = pcvl.Matrix(U)\n",
    "    unitary_component = comp.Unitary(U_matrix_pcvl)\n",
    "    proc = pcvl.Processor(\"SLOS\", unitary_component)\n",
    "    proc.with_input(pcvl.BasicState( in_state))\n",
    "    #simulator = Sampling_Backend(U)\n",
    "\n",
    "    samples = []\n",
    "    i = 0\n",
    "    sampler = Sampler(proc)\n",
    "    while len(samples) < Ns_min:\n",
    "        samples = sampler.samples(nb_samples)['results']\n",
    "        samples = post_select(samples)\n",
    "        i = i+1\n",
    "    print(\"Total number of samples: \", Ns*i)\n",
    "    print(\"Number of samples post:\", len(samples))\n",
    "    perm = (c**m)*np.sqrt(len(samples)/(Ns*i))\n",
    "    return perm\n"
   ]
  },
  {
   "cell_type": "code",
   "execution_count": 6,
   "metadata": {},
   "outputs": [],
   "source": [
    "def perm_estimation(G, nb_samples, Ns_min=0):\n",
    "    if Ns_min == 0:\n",
    "        Ns_min = nb_samples\n",
    "\n",
    "    if type(G) == type(nx.Graph()):\n",
    "        m = G.number_of_nodes()\n",
    "    else:\n",
    "        m = len(G)\n",
    "    in_state = input_state(m)\n",
    "\n",
    "    U, c = to_unitary(G)\n",
    "    U_matrix_pcvl = pcvl.Matrix(U)\n",
    "    unitary_component = comp.Unitary(U_matrix_pcvl)\n",
    "    proc = pcvl.Processor(\"CliffordClifford2017\", unitary_component)\n",
    "    proc.with_input(pcvl.BasicState(in_state))\n",
    "\n",
    "    samples_accepted = []\n",
    "    i = 0\n",
    "    sampler = Sampler(proc)\n",
    "    while len(samples_accepted) < Ns_min:\n",
    "        samples_accepted.append(list(sampler.samples(nb_samples)['results']))\n",
    "        samples_accepted = post_select(samples_accepted)\n",
    "        i = i+1\n",
    "    print(\"Total number of samples: \", nb_samples*i)\n",
    "    print(\"Number of samples post:\", len(samples_accepted))\n",
    "    perm = (c**m)*np.sqrt(len(samples_accepted)/(nb_samples*i))\n",
    "    return perm"
   ]
  },
  {
   "cell_type": "code",
   "execution_count": 6,
   "metadata": {},
   "outputs": [],
   "source": [
    "def perm_estimation(G, nb_samples, Ns_min=0):\n",
    "    if Ns_min == 0:\n",
    "        Ns_min = nb_samples\n",
    "\n",
    "    if type(G) == type(nx.Graph()):\n",
    "        m = G.number_of_nodes()\n",
    "    else:\n",
    "        m = len(G)\n",
    "    in_state = input_state(m)\n",
    "\n",
    "    U, c = to_unitary(G)\n",
    "    U_matrix_pcvl = pcvl.Matrix(U)\n",
    "    unitary_component = comp.Unitary(U_matrix_pcvl)\n",
    "    proc = pcvl.Processor(\"CliffordClifford2017\", unitary_component)\n",
    "    proc.with_input(pcvl.BasicState(in_state))\n",
    "\n",
    "    samples_accepted = []\n",
    "    i = 0\n",
    "    sampler = Sampler(proc)\n",
    "    while len(samples_accepted) < Ns_min:\n",
    "        samples = list(sampler.samples(nb_samples)['results'])\n",
    "        samples_accepted += post_select(samples)\n",
    "        i = i+1\n",
    "    print(\"Total number of samples: \", nb_samples*i)\n",
    "    print(\"Number of samples post:\", len(samples_accepted))\n",
    "    perm = (c**m)*np.sqrt(len(samples_accepted)/(nb_samples*i))\n",
    "    return perm"
   ]
  },
  {
   "cell_type": "markdown",
   "metadata": {},
   "source": [
    "Plotting estimation and exact value for permanent over the edge connectivity (probability parameter in *random_graph_generation()*). The plots can vary a lot because that are a lot of variables that can change. Increasing the number of graphs to consider for the mean, increasing the number of samples for each estimation, all of these would help have a plot but since the generation is probabilistic, it should always vary a little."
   ]
  },
  {
   "cell_type": "code",
   "execution_count": 7,
   "metadata": {},
   "outputs": [
    {
     "name": "stdout",
     "output_type": "stream",
     "text": [
      "[0.7  0.78 0.86 0.94 1.  ]\n",
      "[(150+0j)]\n",
      "[(1146.8666666666666+0j)]\n",
      "[(150+0j), (289.3333333333333+0j)]\n",
      "[(1146.8666666666666+0j), (3439.5333333333333+0j)]\n",
      "[(150+0j), (289.3333333333333+0j), (695.3333333333334+0j)]\n",
      "[(1146.8666666666666+0j), (3439.5333333333333+0j), (4152.133333333333+0j)]\n",
      "[(150+0j), (289.3333333333333+0j), (695.3333333333334+0j), (1211.4666666666667+0j)]\n",
      "[(1146.8666666666666+0j), (3439.5333333333333+0j), (4152.133333333333+0j), (9513.333333333334+0j)]\n",
      "[(150+0j), (289.3333333333333+0j), (695.3333333333334+0j), (1211.4666666666667+0j), (1854+0j)]\n",
      "[(1146.8666666666666+0j), (3439.5333333333333+0j), (4152.133333333333+0j), (9513.333333333334+0j), (14833+0j)]\n"
     ]
    },
    {
     "name": "stderr",
     "output_type": "stream",
     "text": [
      "/Users/filipagoncalvescarvalho/opt/anaconda3/lib/python3.9/site-packages/matplotlib/cbook/__init__.py:1298: ComplexWarning: Casting complex values to real discards the imaginary part\n",
      "  return np.asarray(x, float)\n"
     ]
    },
    {
     "data": {
      "image/png": "[encoded data removed]",
      "text/plain": [
       "<Figure size 432x288 with 1 Axes>"
      ]
     },
     "metadata": {
      "needs_background": "light"
     },
     "output_type": "display_data"
    }
   ],
   "source": [
    "probs = np.append(np.arange(0.7, 1, 0.08), 1)\n",
    "print(probs)\n",
    "exactList1 = []\n",
    "exactList2 = []\n",
    "for i in probs:\n",
    "    exactValues1 = [qc.permanent_cx(nx.to_numpy_array(\n",
    "        random_graph_generation(7, i))) for _ in range(15)]\n",
    "    exactList1.append(np.mean(exactValues1))\n",
    "    print(exactList1)\n",
    "    exactValues2 = [qc.permanent_cx(nx.to_numpy_array(\n",
    "        random_graph_generation(8, i))) for _ in range(15)]\n",
    "    exactList2.append(np.mean(exactValues2))\n",
    "    print(exactList2)\n",
    "\n",
    "plt.plot(probs, exactList1, label=\"Size 7\")\n",
    "\n",
    "# plt.legend()\n",
    "plt.xlabel('Edge probability')\n",
    "plt.ylabel('Permanent')\n",
    "plt.show()"
   ]
  },
  {
   "cell_type": "code",
   "execution_count": 8,
   "metadata": {},
   "outputs": [
    {
     "name": "stderr",
     "output_type": "stream",
     "text": [
      "/Users/filipagoncalvescarvalho/opt/anaconda3/lib/python3.9/site-packages/matplotlib/cbook/__init__.py:1298: ComplexWarning: Casting complex values to real discards the imaginary part\n",
      "  return np.asarray(x, float)\n"
     ]
    },
    {
     "data": {
      "image/png": "[encoded data removed]",
      "text/plain": [
       "<Figure size 432x288 with 1 Axes>"
      ]
     },
     "metadata": {
      "needs_background": "light"
     },
     "output_type": "display_data"
    }
   ],
   "source": [
    "plt.plot(probs, exactList2, label=\"Size 8\", color='tab:purple')\n",
    "plt.yticks(fontsize = 14)\n",
    "plt.xticks(fontsize = 14)\n",
    "\n",
    "# plt.legend()\n",
    "plt.xlabel('Edge probability', fontsize = 14)\n",
    "plt.ylabel('Permanent', fontsize = 14)\n",
    "plt.show()"
   ]
  },
  {
   "cell_type": "markdown",
   "metadata": {},
   "source": [
    "The two plots above reproduce figures $4$ and $5$ of the paper. We see the mean value of the permanent of $15$ randomly generated graphs of $8$ (or $7$, respectively) vertices, plotted in function of edge probability. The edge probability represents the probability that any two vertices $i$ and $j$ of the randomly generated graph are connected by an edge.\n",
    "\n",
    "For the last code in this notebook, you can use it to reproduce figure 6 from the paper where we plot the mean value of estimation and calculation of the permanent for random graphs of sizes 6."
   ]
  },
  {
   "cell_type": "code",
   "execution_count": 11,
   "metadata": {},
   "outputs": [
    {
     "name": "stdout",
     "output_type": "stream",
     "text": [
      "[0.7  0.78 0.86 0.94 1.  ]\n",
      "i in probs: 0.7\n",
      "Total number of samples:  6127000\n",
      "Number of samples post: 500\n",
      "Total number of samples:  29852000\n",
      "Number of samples post: 500\n",
      "Total number of samples:  1273000\n",
      "Number of samples post: 500\n",
      "Total number of samples:  2224000\n",
      "Number of samples post: 500\n",
      "i in probs: 0.7799999999999999\n",
      "Total number of samples:  1671000\n",
      "Number of samples post: 500\n",
      "Total number of samples:  23356500\n",
      "Number of samples post: 500\n",
      "Total number of samples:  3599500\n",
      "Number of samples post: 500\n",
      "Total number of samples:  2005500\n",
      "Number of samples post: 500\n",
      "i in probs: 0.8599999999999999\n",
      "Total number of samples:  1688000\n",
      "Number of samples post: 500\n",
      "Total number of samples:  1585500\n",
      "Number of samples post: 502\n",
      "Total number of samples:  1985000\n",
      "Number of samples post: 500\n",
      "Total number of samples:  1750500\n",
      "Number of samples post: 500\n",
      "i in probs: 0.9399999999999998\n",
      "Total number of samples:  2090000\n",
      "Number of samples post: 500\n",
      "Total number of samples:  2010000\n",
      "Number of samples post: 500\n",
      "Total number of samples:  1720500\n",
      "Number of samples post: 500\n",
      "Total number of samples:  1765500\n",
      "Number of samples post: 500\n",
      "i in probs: 1.0\n",
      "Total number of samples:  1817000\n",
      "Number of samples post: 500\n",
      "Total number of samples:  1706500\n",
      "Number of samples post: 500\n",
      "Total number of samples:  1779500\n",
      "Number of samples post: 500\n",
      "Total number of samples:  1820500\n",
      "Number of samples post: 500\n",
      "exact_list [(16.75+0j), (102.5+0j), (192.5+0j), (216.5+0j), (265+0j)]\n",
      "estimation_list [16.823075838408243, 103.8843088917408, 198.73325236239438, 216.68009650589966, 261.87748694919446]\n"
     ]
    },
    {
     "name": "stderr",
     "output_type": "stream",
     "text": [
      "/var/folders/8v/r85qsjj96qn5kpsdfhrz1g2h0000gp/T/ipykernel_22833/2655738150.py:19: UserWarning: color is redundantly defined by the 'color' keyword argument and the fmt string \"ob\" (-> color='b'). The keyword argument will take precedence.\n",
      "  plt.plot(probs, exact_list, \"ob\", label=\"Exact Value\", color='C0')\n",
      "/Users/filipagoncalvescarvalho/opt/anaconda3/lib/python3.9/site-packages/matplotlib/cbook/__init__.py:1298: ComplexWarning: Casting complex values to real discards the imaginary part\n",
      "  return np.asarray(x, float)\n",
      "/var/folders/8v/r85qsjj96qn5kpsdfhrz1g2h0000gp/T/ipykernel_22833/2655738150.py:20: UserWarning: color is redundantly defined by the 'color' keyword argument and the fmt string \"ob\" (-> color='b'). The keyword argument will take precedence.\n",
      "  plt.plot(probs, estimation_list, \"ob\",\n"
     ]
    },
    {
     "data": {
      "image/png": "[encoded data removed]",
      "text/plain": [
       "<Figure size 432x288 with 1 Axes>"
      ]
     },
     "metadata": {
      "needs_background": "light"
     },
     "output_type": "display_data"
    }
   ],
   "source": [
    "Ns = 500\n",
    "m = 6\n",
    "probs = np.append(np.arange(0.7, 1, 0.08), 1)\n",
    "print(probs)\n",
    "estimation_list = []; exact_list = []\n",
    "for i in probs:\n",
    "    print(\"i in probs:\", i)\n",
    "    estimation_values = []; exact_values = []\n",
    "    for _ in range(4):\n",
    "        random_graph = random_graph_generation(m, i)\n",
    "        estimation_values.append( perm_estimation(random_graph, Ns) )\n",
    "        exact_values.append( qc.permanent_cx(nx.to_numpy_array(random_graph)) )\n",
    "\n",
    "    estimation_list.append(np.mean(estimation_values))\n",
    "    exact_list.append(np.mean(exact_values))\n",
    "\n",
    "print(\"exact_list\", exact_list)\n",
    "print(\"estimation_list\", estimation_list)\n",
    "plt.plot(probs, exact_list, \"ob\", label=\"Exact Value\", color='C0')\n",
    "plt.plot(probs, estimation_list, \"ob\",\n",
    "         label=\"Estimation Value\", color='tab:purple')\n",
    "\n",
    "plt.legend()\n",
    "plt.xlabel('Edge probability')\n",
    "plt.ylabel('Permanent')\n",
    "plt.show()"
   ]
  }
 ],
 "metadata": {
  "interpreter": {
   "hash": "765bd6793ea5362367183dba09c599ce34c84eeeb7f3172847d560f9d0858670"
  },
  "kernelspec": {
   "display_name": "Python 3.9.12 ('base')",
   "language": "python",
   "name": "python3"
  },
  "language_info": {
   "codemirror_mode": {
    "name": "ipython",
    "version": 3
   },
   "file_extension": ".py",
   "mimetype": "text/x-python",
   "name": "python",
   "nbconvert_exporter": "python",
   "pygments_lexer": "ipython3",
   "version": "3.9.12"
  },
  "orig_nbformat": 4
 },
 "nbformat": 4,
 "nbformat_minor": 2
}
