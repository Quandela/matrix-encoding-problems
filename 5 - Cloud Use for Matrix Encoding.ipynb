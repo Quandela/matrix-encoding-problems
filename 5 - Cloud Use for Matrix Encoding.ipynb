{
 "cells": [
  {
   "cell_type": "markdown",
   "metadata": {},
   "source": [
    "# Matrix Encoding and Permanent Estimation\n",
    "\n",
    "This notebook is part of a series of notebooks with the code to reproduce results from this [REFERENCE] paper. Similarly to notebook 1 for Matrix Encoding, this $5^{th}$ notebook also contains the initial steps for the encoding function *to_unitary()* and permanent estimation. However, here we use Quandela's QPU (Ascella) to run the algorithm and perform our estimations. In order to do that, the notebook is organised as follows:\n",
    "- *to_unitary()* function\n",
    "- State preparation and post-selection.\n",
    "- *perm_estimation()* function to estimate the permanent on the cloud.\n",
    "\n",
    "To run these notebooks, you will need to install **Perceval**, a software tool developed by Quandela that we use to control the photonic device."
   ]
  },
  {
   "cell_type": "code",
   "execution_count": 28,
   "metadata": {},
   "outputs": [],
   "source": [
    "import numpy as np\n",
    "from numpy import linalg\n",
    "from scipy.linalg import sqrtm\n",
    "\n",
    "import math\n",
    "import networkx as nx\n",
    "from datetime import datetime\n",
    "import time\n",
    "\n",
    "import perceval as pcvl\n",
    "import perceval.components.unitary_components as comp\n",
    "\n",
    "import quandelibc as qc\n",
    "import matplotlib.pyplot as plt"
   ]
  },
  {
   "cell_type": "code",
   "execution_count": 140,
   "metadata": {},
   "outputs": [],
   "source": [
    "from itertools import combinations"
   ]
  },
  {
   "cell_type": "code",
   "execution_count": 29,
   "metadata": {},
   "outputs": [],
   "source": [
    "import functions"
   ]
  },
  {
   "cell_type": "markdown",
   "metadata": {},
   "source": [
    "![BSdevice_graphs.png](attachment:BSdevice_graphs.png)"
   ]
  },
  {
   "cell_type": "markdown",
   "metadata": {},
   "source": [
    "We construct *to_unitary()* now. Considering the singular value decomposition of $A$, from the theory part in the paper we have that if $$A=U\\Sigma V^T \\text{ and } s=\\sigma_{max}(A)$$\n",
    "then we can embed $A$ into a doubled-size unitary $U_A$ with the form:\n",
    "$$U_A:=\\begin{pmatrix}\n",
    "A_s & \\sqrt{I_{n \\times n} -A_s(A_s)^{T}} \\\\\n",
    "\\sqrt{I_{n \\times n} -(A_s)^{T}A_s}  & -(A_s)^{T}\\\\\n",
    "\\end{pmatrix}$$"
   ]
  },
  {
   "cell_type": "code",
   "execution_count": 30,
   "metadata": {},
   "outputs": [],
   "source": [
    "def to_unitary(A):\n",
    "    ''' Input: graph A either as:\n",
    "                                 an adjacency matrix of size mxm\n",
    "                                 a networkX graph with m nodes\n",
    "        Output: unitary with size 2mx2m\n",
    "    '''\n",
    "\n",
    "    if type(A)==type(nx.Graph()):\n",
    "        A=nx.convert_matrix.to_numpy_matrix(A)\n",
    "    P,D,V=linalg.svd(A)\n",
    "    \n",
    "    c=np.max(D)\n",
    "    An=np.matrix(A/c, dtype=complex)                       #if it is not complex, then np.sqrt will output nan in complex values\n",
    "    P=An\n",
    "    m=len(An)\n",
    "    Q=sqrtm( np.identity(m)-np.dot(An,An.conj().T) )\n",
    "    R=sqrtm( np.identity(m)-np.dot(An.conj().T,An) )\n",
    "    S=-An.conj().T\n",
    "    Ubmat=np.bmat([ [P, Q], [R, S] ])\n",
    "    return (np.copy(Ubmat),c)"
   ]
  },
  {
   "cell_type": "code",
   "execution_count": 31,
   "metadata": {},
   "outputs": [
    {
     "data": {
      "text/plain": [
       "array([1, 1, 1, 1, 0, 0, 0, 0])"
      ]
     },
     "execution_count": 31,
     "metadata": {},
     "output_type": "execute_result"
    }
   ],
   "source": [
    "def input_state(m):\n",
    "    '''input state for selection of our m modes\n",
    "        returns |1,1,1,...,0,0,0> m ones and m zeros'''\n",
    "    return np.append(np.ones(m), np.zeros(m)).astype(int)\n",
    "\n",
    "input_state(4)"
   ]
  },
  {
   "cell_type": "code",
   "execution_count": 141,
   "metadata": {},
   "outputs": [],
   "source": [
    "#Post selection of samples with photons only on first half modes\n",
    "def post_select(samples):\n",
    "    ''''post select on states that have all modes from m to 2*m as vacuum\n",
    "        can't have collision of first half'''\n",
    "    a = []\n",
    "    print(samples)\n",
    "    m = int(len(samples[0])/2)\n",
    "    for state in samples:\n",
    "        state=list(state)\n",
    "        if all(ele==state[m-1] for ele in state[:m]) and state[m-1]==1:\n",
    "            a.append( state )                  #do not need to check if there is vaccum in the second half for several reasons!\n",
    "    return a"
   ]
  },
  {
   "cell_type": "markdown",
   "metadata": {},
   "source": [
    "Computing the permanent estimation by generating samples.\n",
    "\n",
    "$$permE(A)=s^n PermE(A_s)=s^n\\sqrt{\\frac{ \\text{Accepted samples} }{\\text{Total number of samples}}}$$"
   ]
  },
  {
   "cell_type": "code",
   "execution_count": 142,
   "metadata": {},
   "outputs": [],
   "source": [
    "qpu_token = 'YOUR_TOKEN'"
   ]
  },
  {
   "cell_type": "code",
   "execution_count": 144,
   "metadata": {},
   "outputs": [],
   "source": [
    "def post_select_new(results):\n",
    "    ''''post select on states that have all modes from m to 2*m as vacuum\n",
    "        can't have collision of first half'''\n",
    "    new_res = {}#; nb_samples_total = 0\n",
    "    m = int( len(list(results.keys())[0])/2 )\n",
    "\n",
    "    for sample in results:\n",
    "        state=list(sample)\n",
    "        if all(ele == state[m-1] for ele in state[:m]) and state[m-1] == 1:\n",
    "            new_res[tuple(sample)]=results[sample]\n",
    "            #nb_samples_total = nb_samples_total + results[sample]\n",
    "    #print(\"list(new_res.values())[0]\", list(new_res.values())[0])\n",
    "    return new_res"
   ]
  },
  {
   "cell_type": "code",
   "execution_count": 145,
   "metadata": {},
   "outputs": [],
   "source": [
    "def perm_naive(array):\n",
    "    if np.array(array).size == 1:\n",
    "        return np.array(array)[0, 0]\n",
    "    else:\n",
    "        return sum(\n",
    "            array[i, 0]\n",
    "            * perm_naive(np.array([array[j, 1:] for j in range(array.shape[0]) if j != i]))\n",
    "            for i in range(array.shape[0])\n",
    "        )"
   ]
  },
  {
   "cell_type": "code",
   "execution_count": 146,
   "metadata": {},
   "outputs": [],
   "source": [
    "def no_bunching_proba_n_photons(V_fill, m, n):\n",
    "    proba_n_photons = 0\n",
    "    sub_mat_col = V_fill[:, list(range(n))]\n",
    "    for indices_tuple in combinations(range(m), n):\n",
    "        sub_matrix = sub_mat_col[list(indices_tuple), :]\n",
    "        proba_n_photons += np.abs(perm_naive(sub_matrix)) ** 2\n",
    "    return proba_n_photons"
   ]
  },
  {
   "cell_type": "code",
   "execution_count": 155,
   "metadata": {},
   "outputs": [],
   "source": [
    "def perm_estimation(G, n_samples):\n",
    "    '''Permanent estimation function for a given graph\n",
    "    Arguments:\n",
    "        G - networkX graph\n",
    "        n_samples - number of samples to ask from the QPU\n",
    "    '''\n",
    "    m = G.number_of_nodes()\n",
    "    input_fock = input_state(m)\n",
    "\n",
    "    processor = pcvl.RemoteProcessor(\"qpu:ascella\", qpu_token)\n",
    "    processor.with_input(pcvl.BasicState(input_fock))\n",
    "\n",
    "    circuit = pcvl.Circuit(2*m)\n",
    "    U,c = functions.to_unitary(G)\n",
    "    #U_bunching to correct the permanent below because of device errors like G2, loss, distinguishability (...)\n",
    "    U_bunching = no_bunching_proba_n_photons(U, 2*m, m) \n",
    "    circuit.add(0, comp.Unitary(pcvl.Matrix(U)))\n",
    "    processor.set_circuit(circuit)\n",
    "\n",
    "    sampler = pcvl.algorithm.Sampler(processor)\n",
    "    remote_job = sampler.sample_count\n",
    "    remote_job.name = \"perm_estimation\" + datetime.now().strftime(\"%Y%m%d_%H%M%S\")\n",
    "    remote_job.execute_async(n_samples)\n",
    "\n",
    "    while not remote_job.is_complete:\n",
    "        time.sleep(0.02)\n",
    "    #print(\"Job is complete!\")\n",
    "\n",
    "    samples = remote_job.get_results()['results']; print(samples)\n",
    "    samples_post_selected = post_select_new(samples)\n",
    "    \n",
    "    # Here, we don't have minimum amount of post-selected samples\n",
    "    # in case the case where is zero, it's pointless to compute the permanent\n",
    "    if samples_post_selected == {}: \n",
    "        print(\"No post selected samples\")\n",
    "        return 0\n",
    "    \n",
    "    nb_post_selected = list(samples_post_selected.values())[0]\n",
    "    print(\"Number of samples post-selected:\", nb_post_selected)\n",
    "    perm = (c**m)*np.sqrt(U_bunching*nb_post_selected/n_samples)#/2 #(c**m)*np.sqrt(len(samples)/(Ns*i))\n",
    "    return perm"
   ]
  },
  {
   "cell_type": "markdown",
   "metadata": {},
   "source": [
    "Plotting estimation and exact value for permanent over different specific graphs."
   ]
  },
  {
   "cell_type": "code",
   "execution_count": 166,
   "metadata": {},
   "outputs": [],
   "source": [
    "G1 = nx.Graph()\n",
    "G1.add_nodes_from([0, 1, 2, 3])\n",
    "G1.add_edges_from([(0, 1), (0,2), (1, 3), (2, 3)])\n",
    "\n",
    "G2 = nx.Graph()\n",
    "G2.add_nodes_from([0, 1, 2, 3])\n",
    "G2.add_edges_from([(0, 1), (0, 2), (0, 3), (1, 2), (1, 3)])\n",
    "\n",
    "G3 = nx.Graph()\n",
    "G3.add_nodes_from([0, 1, 2, 3])\n",
    "G3.add_edges_from([(0, 1), (0, 2), (0, 3), (1, 2), (1, 3), (2, 3)])\n",
    "\n",
    "G4 = nx.Graph()\n",
    "G4.add_nodes_from([0, 1, 2])\n",
    "G4.add_edges_from([(0, 1), (0, 2), (1, 2)])"
   ]
  },
  {
   "cell_type": "code",
   "execution_count": 168,
   "metadata": {},
   "outputs": [
    {
     "name": "stdout",
     "output_type": "stream",
     "text": [
      "{\n",
      "  |1,1,1,0,0,0>: 1588\n",
      "  |1,1,0,1,0,0>: 165\n",
      "  |1,1,0,0,1,0>: 170\n",
      "  |1,1,0,0,0,1>: 102\n",
      "  |1,0,1,1,0,0>: 95\n",
      "  |1,0,1,0,1,0>: 98\n",
      "  |1,0,1,0,0,1>: 125\n",
      "  |1,0,0,1,1,0>: 838\n",
      "  |1,0,0,1,0,1>: 721\n",
      "  |1,0,0,0,1,1>: 259\n",
      "  |0,1,1,1,0,0>: 102\n",
      "  |0,1,1,0,1,0>: 146\n",
      "  |0,1,1,0,0,1>: 172\n",
      "  |0,1,0,1,1,0>: 905\n",
      "  |0,1,0,1,0,1>: 150\n",
      "  |0,1,0,0,1,1>: 717\n",
      "  |0,0,1,1,1,0>: 211\n",
      "  |0,0,1,1,0,1>: 657\n",
      "  |0,0,1,0,1,1>: 884\n",
      "  |0,0,0,1,1,1>: 2116\n",
      "  |0,1,0,1,1,1>: 1\n",
      "}\n",
      "Number of samples post-selected: 1588\n",
      "1.840579618851988 (2+0j)\n"
     ]
    }
   ],
   "source": [
    "Ns = 10000\n",
    "print(perm_estimation(G4, Ns), qc.permanent_cx(nx.to_numpy_array(G4)))"
   ]
  },
  {
   "cell_type": "code",
   "execution_count": 157,
   "metadata": {},
   "outputs": [
    {
     "name": "stdout",
     "output_type": "stream",
     "text": [
      "{\n",
      "  |1,1,1,1,0,0,0,0>: 1927\n",
      "  |1,1,1,0,1,0,0,0>: 8\n",
      "  |1,1,1,0,0,1,0,0>: 160\n",
      "  |1,1,1,0,0,0,1,0>: 138\n",
      "  |1,1,1,0,0,0,0,1>: 4\n",
      "  |1,1,0,1,1,0,0,0>: 101\n",
      "  |1,1,0,1,0,1,0,0>: 7\n",
      "  |1,1,0,1,0,0,1,0>: 6\n",
      "  |1,1,0,1,0,0,0,1>: 66\n",
      "  |1,1,0,0,1,1,0,0>: 5\n",
      "  |1,1,0,0,1,0,1,0>: 12\n",
      "  |1,1,0,0,1,0,0,1>: 5\n",
      "  |1,1,0,0,0,1,1,0>: 2\n",
      "  |1,1,0,0,0,1,0,1>: 7\n",
      "  |1,1,0,0,0,0,1,1>: 8\n",
      "  |1,0,1,1,1,0,0,0>: 117\n",
      "  |1,0,1,1,0,1,0,0>: 6\n",
      "  |1,0,1,1,0,0,1,0>: 7\n",
      "  |1,0,1,1,0,0,0,1>: 95\n",
      "  |1,0,1,0,1,1,0,0>: 11\n",
      "  |1,0,1,0,1,0,1,0>: 9\n",
      "  |1,0,1,0,1,0,0,1>: 13\n",
      "  |1,0,1,0,0,1,1,0>: 11\n",
      "  |1,0,1,0,0,1,0,1>: 5\n",
      "  |1,0,1,0,0,0,1,1>: 8\n",
      "  |1,0,0,1,1,1,0,0>: 4\n",
      "  |1,0,0,1,1,0,1,0>: 7\n",
      "  |1,0,0,1,1,0,0,1>: 1768\n",
      "  |1,0,0,1,0,1,0,1>: 8\n",
      "  |1,0,0,1,0,0,1,1>: 5\n",
      "  |1,0,0,0,1,1,1,0>: 1\n",
      "  |1,0,0,0,1,1,0,1>: 142\n",
      "  |1,0,0,0,1,0,1,1>: 146\n",
      "  |1,0,0,0,0,1,1,1>: 5\n",
      "  |0,1,1,1,1,0,0,0>: 15\n",
      "  |0,1,1,1,0,1,0,0>: 136\n",
      "  |0,1,1,1,0,0,1,0>: 154\n",
      "  |0,1,1,1,0,0,0,1>: 8\n",
      "  |0,1,1,0,1,1,0,0>: 2\n",
      "  |0,1,1,0,1,0,1,0>: 3\n",
      "  |0,1,1,0,0,1,1,0>: 2024\n",
      "  |0,1,1,0,0,1,0,1>: 3\n",
      "  |0,1,1,0,0,0,1,1>: 3\n",
      "  |0,1,0,1,1,1,0,0>: 8\n",
      "  |0,1,0,1,1,0,1,0>: 6\n",
      "  |0,1,0,1,1,0,0,1>: 4\n",
      "  |0,1,0,1,0,1,1,0>: 12\n",
      "  |0,1,0,1,0,1,0,1>: 7\n",
      "  |0,1,0,1,0,0,1,1>: 2\n",
      "  |0,1,0,0,1,1,1,0>: 125\n",
      "  |0,1,0,0,1,1,0,1>: 3\n",
      "  |0,1,0,0,1,0,1,1>: 5\n",
      "  |0,1,0,0,0,1,1,1>: 98\n",
      "  |0,0,1,1,1,1,0,0>: 6\n",
      "  |0,0,1,1,1,0,1,0>: 11\n",
      "  |0,0,1,1,1,0,0,1>: 11\n",
      "  |0,0,1,1,0,1,1,0>: 8\n",
      "  |0,0,1,1,0,1,0,1>: 9\n",
      "  |0,0,1,1,0,0,1,1>: 11\n",
      "  |0,0,1,0,1,1,1,0>: 136\n",
      "  |0,0,1,0,1,1,0,1>: 1\n",
      "  |0,0,1,0,1,0,1,1>: 6\n",
      "  |0,0,1,0,0,1,1,1>: 110\n",
      "  |0,0,0,1,1,1,1,0>: 19\n",
      "  |0,0,0,1,1,1,0,1>: 118\n",
      "  |0,0,0,1,1,0,1,1>: 156\n",
      "  |0,0,0,1,0,1,1,1>: 6\n",
      "  |0,0,0,0,1,1,1,1>: 1947\n",
      "  |1,1,1,1,0,1,0,0>: 1\n",
      "  |1,1,1,0,0,1,1,0>: 1\n",
      "}\n",
      "Number of samples post-selected: 1927\n",
      "3.5118086508236765 (4+0j)\n"
     ]
    }
   ],
   "source": [
    "Ns = 10000\n",
    "print(perm_estimation(G1, Ns), qc.permanent_cx(nx.to_numpy_array(G1)))"
   ]
  },
  {
   "cell_type": "code",
   "execution_count": 162,
   "metadata": {},
   "outputs": [
    {
     "name": "stdout",
     "output_type": "stream",
     "text": [
      "{\n",
      "  |1,1,1,1,0,0,0,0>: 247\n",
      "  |1,1,1,0,1,0,0,0>: 28\n",
      "  |1,1,1,0,0,1,0,0>: 28\n",
      "  |1,1,1,0,0,0,1,0>: 42\n",
      "  |1,1,1,0,0,0,0,1>: 8\n",
      "  |1,1,0,1,1,0,0,0>: 19\n",
      "  |1,1,0,1,0,1,0,0>: 27\n",
      "  |1,1,0,1,0,0,1,0>: 36\n",
      "  |1,1,0,1,0,0,0,1>: 20\n",
      "  |1,1,0,0,1,1,0,0>: 373\n",
      "  |1,1,0,0,1,0,1,0>: 22\n",
      "  |1,1,0,0,1,0,0,1>: 29\n",
      "  |1,1,0,0,0,1,1,0>: 16\n",
      "  |1,1,0,0,0,1,0,1>: 27\n",
      "  |1,1,0,0,0,0,1,1>: 72\n",
      "  |1,0,1,1,1,0,0,0>: 50\n",
      "  |1,0,1,1,0,1,0,0>: 46\n",
      "  |1,0,1,1,0,0,1,0>: 114\n",
      "  |1,0,1,1,0,0,0,1>: 75\n",
      "  |1,0,1,0,1,1,0,0>: 25\n",
      "  |1,0,1,0,1,0,1,0>: 72\n",
      "  |1,0,1,0,1,0,0,1>: 51\n",
      "  |1,0,1,0,0,1,1,0>: 28\n",
      "  |1,0,1,0,0,1,0,1>: 25\n",
      "  |1,0,1,0,0,0,1,1>: 40\n",
      "  |1,0,0,1,1,1,0,0>: 15\n",
      "  |1,0,0,1,1,0,1,0>: 61\n",
      "  |1,0,0,1,1,0,0,1>: 77\n",
      "  |1,0,0,1,0,1,1,0>: 15\n",
      "  |1,0,0,1,0,1,0,1>: 25\n",
      "  |1,0,0,1,0,0,1,1>: 53\n",
      "  |1,0,0,0,1,1,1,0>: 309\n",
      "  |1,0,0,0,1,1,0,1>: 233\n",
      "  |1,0,0,0,1,0,1,1>: 441\n",
      "  |1,0,0,0,0,1,1,1>: 178\n",
      "  |0,1,1,1,1,0,0,0>: 44\n",
      "  |0,1,1,1,0,1,0,0>: 53\n",
      "  |0,1,1,1,0,0,1,0>: 106\n",
      "  |0,1,1,1,0,0,0,1>: 97\n",
      "  |0,1,1,0,1,1,0,0>: 20\n",
      "  |0,1,1,0,1,0,1,0>: 48\n",
      "  |0,1,1,0,1,0,0,1>: 58\n",
      "  |0,1,1,0,0,1,1,0>: 37\n",
      "  |0,1,1,0,0,1,0,1>: 22\n",
      "  |0,1,1,0,0,0,1,1>: 69\n",
      "  |0,1,0,1,1,1,0,0>: 16\n",
      "  |0,1,0,1,1,0,1,0>: 37\n",
      "  |0,1,0,1,1,0,0,1>: 52\n",
      "  |0,1,0,1,0,1,1,0>: 14\n",
      "  |0,1,0,1,0,1,0,1>: 24\n",
      "  |0,1,0,1,0,0,1,1>: 69\n",
      "  |0,1,0,0,1,1,1,0>: 279\n",
      "  |0,1,0,0,1,1,0,1>: 255\n",
      "  |0,1,0,0,1,0,1,1>: 261\n",
      "  |0,1,0,0,0,1,1,1>: 432\n",
      "  |0,0,1,1,1,1,0,0>: 15\n",
      "  |0,0,1,1,1,0,1,0>: 31\n",
      "  |0,0,1,1,1,0,0,1>: 18\n",
      "  |0,0,1,1,0,1,1,0>: 29\n",
      "  |0,0,1,1,0,1,0,1>: 23\n",
      "  |0,0,1,1,0,0,1,1>: 844\n",
      "  |0,0,1,0,1,1,1,0>: 34\n",
      "  |0,0,1,0,1,1,0,1>: 40\n",
      "  |0,0,1,0,1,0,1,1>: 490\n",
      "  |0,0,1,0,0,1,1,1>: 242\n",
      "  |0,0,0,1,1,1,1,0>: 30\n",
      "  |0,0,0,1,1,1,0,1>: 14\n",
      "  |0,0,0,1,1,0,1,1>: 441\n",
      "  |0,0,0,1,0,1,1,1>: 216\n",
      "  |0,0,0,0,1,1,1,1>: 2616\n",
      "  |0,1,0,0,1,1,1,1>: 1\n",
      "  |0,0,1,0,1,1,1,1>: 1\n",
      "}\n",
      "Number of samples post-selected: 247\n",
      "3.966667239940684 (4+0j)\n"
     ]
    }
   ],
   "source": [
    "Ns = 10000\n",
    "print(perm_estimation(G2, Ns), qc.permanent_cx(nx.to_numpy_array(G2)))"
   ]
  },
  {
   "cell_type": "code",
   "execution_count": 163,
   "metadata": {},
   "outputs": [
    {
     "name": "stdout",
     "output_type": "stream",
     "text": [
      "{\n",
      "  |1,1,1,1,0,0,0,0>: 320\n",
      "  |1,1,1,0,1,0,0,0>: 32\n",
      "  |1,1,1,0,0,1,0,0>: 25\n",
      "  |1,1,1,0,0,0,1,0>: 30\n",
      "  |1,1,1,0,0,0,0,1>: 39\n",
      "  |1,1,0,1,1,0,0,0>: 31\n",
      "  |1,1,0,1,0,1,0,0>: 25\n",
      "  |1,1,0,1,0,0,1,0>: 35\n",
      "  |1,1,0,1,0,0,0,1>: 14\n",
      "  |1,1,0,0,1,1,0,0>: 239\n",
      "  |1,1,0,0,1,0,1,0>: 27\n",
      "  |1,1,0,0,1,0,0,1>: 14\n",
      "  |1,1,0,0,0,1,1,0>: 12\n",
      "  |1,1,0,0,0,1,0,1>: 10\n",
      "  |1,1,0,0,0,0,1,1>: 31\n",
      "  |1,0,1,1,1,0,0,0>: 31\n",
      "  |1,0,1,1,0,1,0,0>: 26\n",
      "  |1,0,1,1,0,0,1,0>: 27\n",
      "  |1,0,1,1,0,0,0,1>: 17\n",
      "  |1,0,1,0,1,1,0,0>: 40\n",
      "  |1,0,1,0,1,0,1,0>: 214\n",
      "  |1,0,1,0,1,0,0,1>: 16\n",
      "  |1,0,1,0,0,1,1,0>: 20\n",
      "  |1,0,1,0,0,1,0,1>: 52\n",
      "  |1,0,1,0,0,0,1,1>: 23\n",
      "  |1,0,0,1,1,1,0,0>: 15\n",
      "  |1,0,0,1,1,0,1,0>: 23\n",
      "  |1,0,0,1,1,0,0,1>: 171\n",
      "  |1,0,0,1,0,1,1,0>: 47\n",
      "  |1,0,0,1,0,1,0,1>: 21\n",
      "  |1,0,0,1,0,0,1,1>: 39\n",
      "  |1,0,0,0,1,1,1,0>: 292\n",
      "  |1,0,0,0,1,1,0,1>: 234\n",
      "  |1,0,0,0,1,0,1,1>: 254\n",
      "  |1,0,0,0,0,1,1,1>: 200\n",
      "  |0,1,1,1,1,0,0,0>: 23\n",
      "  |0,1,1,1,0,1,0,0>: 25\n",
      "  |0,1,1,1,0,0,1,0>: 26\n",
      "  |0,1,1,1,0,0,0,1>: 14\n",
      "  |0,1,1,0,1,1,0,0>: 22\n",
      "  |0,1,1,0,1,0,1,0>: 16\n",
      "  |0,1,1,0,1,0,0,1>: 29\n",
      "  |0,1,1,0,0,1,1,0>: 205\n",
      "  |0,1,1,0,0,1,0,1>: 14\n",
      "  |0,1,1,0,0,0,1,1>: 15\n",
      "  |0,1,0,1,1,1,0,0>: 20\n",
      "  |0,1,0,1,1,0,1,0>: 37\n",
      "  |0,1,0,1,1,0,0,1>: 20\n",
      "  |0,1,0,1,0,1,1,0>: 28\n",
      "  |0,1,0,1,0,1,0,1>: 190\n",
      "  |0,1,0,1,0,0,1,1>: 21\n",
      "  |0,1,0,0,1,1,1,0>: 341\n",
      "  |0,1,0,0,1,1,0,1>: 284\n",
      "  |0,1,0,0,1,0,1,1>: 143\n",
      "  |0,1,0,0,0,1,1,1>: 236\n",
      "  |0,0,1,1,1,1,0,0>: 39\n",
      "  |0,0,1,1,1,0,1,0>: 15\n",
      "  |0,0,1,1,1,0,0,1>: 6\n",
      "  |0,0,1,1,0,1,1,0>: 29\n",
      "  |0,0,1,1,0,1,0,1>: 19\n",
      "  |0,0,1,1,0,0,1,1>: 229\n",
      "  |0,0,1,0,1,1,1,0>: 290\n",
      "  |0,0,1,0,1,1,0,1>: 176\n",
      "  |0,0,1,0,1,0,1,1>: 261\n",
      "  |0,0,1,0,0,1,1,1>: 281\n",
      "  |0,0,0,1,1,1,1,0>: 162\n",
      "  |0,0,0,1,1,1,0,1>: 252\n",
      "  |0,0,0,1,1,0,1,1>: 217\n",
      "  |0,0,0,1,0,1,1,1>: 317\n",
      "  |0,0,0,0,1,1,1,1>: 3355\n",
      "  |1,0,0,1,1,0,1,1>: 1\n",
      "  |0,1,0,0,1,1,1,1>: 1\n",
      "}\n",
      "Number of samples post-selected: 320\n",
      "8.513518750721156 (9+0j)\n"
     ]
    }
   ],
   "source": [
    "Ns = 10000\n",
    "print(perm_estimation(G3, Ns), qc.permanent_cx(nx.to_numpy_array(G3)))"
   ]
  },
  {
   "cell_type": "markdown",
   "metadata": {},
   "source": [
    "Putting it all together for error estimation.\n"
   ]
  },
  {
   "cell_type": "code",
   "execution_count": 183,
   "metadata": {},
   "outputs": [
    {
     "name": "stdout",
     "output_type": "stream",
     "text": [
      "[0.185903200617956, 0.5002419881523076, 0.9411349531284028, 0.092951600308978]\n"
     ]
    },
    {
     "data": {
      "text/plain": [
       "<ErrorbarContainer object of 3 artists>"
      ]
     },
     "execution_count": 183,
     "metadata": {},
     "output_type": "execute_result"
    },
    {
     "data": {
      "image/png": "[encoded data removed]",
      "text/plain": [
       "<Figure size 432x288 with 1 Axes>"
      ]
     },
     "metadata": {
      "needs_background": "light"
     },
     "output_type": "display_data"
    }
   ],
   "source": [
    "Ns = 10000\n",
    "perm_error = []\n",
    "#results = {graph: (number of post-selected samples, estimated permanent)}\n",
    "results = {G1: (1927, 3.5118), G2: (247, 3.9667), G3: (320, 8.5124), G4: (1588, 1.8406)}\n",
    "\n",
    "for G in results.keys():\n",
    "    U,c = functions.to_unitary(G)\n",
    "    m = G.number_of_nodes()\n",
    "    U_bunching = no_bunching_proba_n_photons(U, 2*m, m)\n",
    "    perm_error.append((c**m)*np.sqrt( 1.35/Ns ))\n",
    "    #perm_error.append((c**m)*np.sqrt( np.sqrt(U_bunching*results[G][0])/Ns ))\n",
    "\n",
    "print(perm_error)\n",
    "plt.errorbar(list(range(4)), [results[G][1] for G in results.keys()], yerr=perm_error, fmt='.k')"
   ]
  },
  {
   "cell_type": "code",
   "execution_count": 184,
   "metadata": {},
   "outputs": [
    {
     "data": {
      "image/png": "[encoded data removed]",
      "text/plain": [
       "<Figure size 432x288 with 1 Axes>"
      ]
     },
     "metadata": {},
     "output_type": "display_data"
    }
   ],
   "source": [
    "nx.draw(G1, node_size=100, node_color=\"black\", width=0.8)"
   ]
  },
  {
   "cell_type": "code",
   "execution_count": 185,
   "metadata": {},
   "outputs": [
    {
     "data": {
      "image/png": "[encoded data removed]",
      "text/plain": [
       "<Figure size 432x288 with 1 Axes>"
      ]
     },
     "metadata": {},
     "output_type": "display_data"
    }
   ],
   "source": [
    "nx.draw(G2, node_size=100, node_color=\"black\", width=0.8)"
   ]
  },
  {
   "cell_type": "code",
   "execution_count": 186,
   "metadata": {},
   "outputs": [
    {
     "data": {
      "image/png": "[encoded data removed]",
      "text/plain": [
       "<Figure size 432x288 with 1 Axes>"
      ]
     },
     "metadata": {},
     "output_type": "display_data"
    }
   ],
   "source": [
    "nx.draw(G3, node_size=100, node_color=\"black\", width=0.8)"
   ]
  },
  {
   "cell_type": "code",
   "execution_count": 187,
   "metadata": {},
   "outputs": [
    {
     "data": {
      "image/png": "[encoded data removed]",
      "text/plain": [
       "<Figure size 432x288 with 1 Axes>"
      ]
     },
     "metadata": {},
     "output_type": "display_data"
    }
   ],
   "source": [
    "nx.draw(G4, node_size=100, node_color=\"black\", width=0.8)"
   ]
  }
 ],
 "metadata": {
  "interpreter": {
   "hash": "765bd6793ea5362367183dba09c599ce34c84eeeb7f3172847d560f9d0858670"
  },
  "kernelspec": {
   "display_name": "Python 3.9.12 ('base')",
   "language": "python",
   "name": "python3"
  },
  "language_info": {
   "codemirror_mode": {
    "name": "ipython",
    "version": 3
   },
   "file_extension": ".py",
   "mimetype": "text/x-python",
   "name": "python",
   "nbconvert_exporter": "python",
   "pygments_lexer": "ipython3",
   "version": "3.9.12"
  },
  "orig_nbformat": 4
 },
 "nbformat": 4,
 "nbformat_minor": 2
}
