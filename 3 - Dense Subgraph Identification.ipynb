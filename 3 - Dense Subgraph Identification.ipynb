{
 "cells": [
  {
   "cell_type": "markdown",
   "id": "fda75d18",
   "metadata": {},
   "source": [
    "# Densest Subgraph Identification\n",
    "\n",
    "_This notebook was developed by Ana Filipa Carvalho._ \n",
    "\n",
    "This jupyter notebook is part of a series of notebooks that contain code to generate the results of this [REFERENCE] paper. Here we focus on one of the applications: Densest Subgraph Identification.\n",
    "\n",
    "1. Auxiliary functions for later as usual with functions.py file; here we will need the functions to initialize random graphs and to encode them into the device.\n",
    "2. Define the appropriate state preparation and selection.\n",
    "2. Construction of *densest_subgraphs()* function witht the help of other functions for intermediate steps;\n",
    "3. Testing.\n"
   ]
  },
  {
   "cell_type": "code",
   "execution_count": 1,
   "id": "79e4fbde",
   "metadata": {},
   "outputs": [],
   "source": [
    "import numpy as np\n",
    "from scipy.special import binom\n",
    "import itertools\n",
    "import networkx as nx\n",
    "\n",
    "import perceval as pcvl\n",
    "from perceval.algorithm import Sampler\n",
    "import perceval.components as comp"
   ]
  },
  {
   "cell_type": "markdown",
   "id": "ea62f095",
   "metadata": {},
   "source": [
    "Import of the file with the basic and auxiliary functions."
   ]
  },
  {
   "cell_type": "code",
   "execution_count": 2,
   "id": "d3e53226",
   "metadata": {},
   "outputs": [],
   "source": [
    "import functions"
   ]
  },
  {
   "cell_type": "markdown",
   "id": "9758ef4d",
   "metadata": {},
   "source": [
    "#### Post selection and state preparation\n",
    "\n",
    "States here have different dimensions than the ones used for either permanent estimation and graph isomorphism. Here we handle the states specific for the Densest Subgraph Identification problem. Recall from construction of the matrix with possible subgraphs (we will soon construct it):\n",
    "\n",
    "$$\\mathbf{n}_{in}=\\underbrace{(1 \\dots,1}_{modes \\ 1 \\ to \\ k},0 \\dots,0) \\qquad \\qquad \\mathbf{n}_{out,j}:=(0, \\dots 0, \\underbrace{1, \\dots 1}_{modes \\ (j-1)k+1 \\ to \\ jk }, 0 \\dots 0)$$"
   ]
  },
  {
   "cell_type": "code",
   "execution_count": 3,
   "id": "51ec8c02",
   "metadata": {},
   "outputs": [],
   "source": [
    "def post_selectionDSI(samples, k):\n",
    "    accepted = []\n",
    "    n_subg = int(len(samples[0])/2/k)\n",
    "    for sample in samples:\n",
    "        for i in range(n_subg):\n",
    "            if all(sample[k*i:k*i+k]) == 1:\n",
    "                accepted.append(sample)\n",
    "    return accepted\n"
   ]
  },
  {
   "cell_type": "code",
   "execution_count": 4,
   "id": "1b1b337c",
   "metadata": {},
   "outputs": [
    {
     "data": {
      "text/plain": [
       "[[1, 1, 1, 1, 0, 0, 0, 0, 0, 0, 0, 0, 0, 0, 0, 0]]"
      ]
     },
     "execution_count": 4,
     "metadata": {},
     "output_type": "execute_result"
    }
   ],
   "source": [
    "samples = [[1, 1, 1, 1, 0, 0, 0, 0, 0, 0, 0, 0, 0, 0, 0, 0],\n",
    "           [0, 0, 0, 0, 0, 0, 0, 0, 1, 1, 1, 1, 0, 0, 0, 0]]\n",
    "post_selectionDSI(samples, 4)\n"
   ]
  },
  {
   "cell_type": "code",
   "execution_count": 6,
   "id": "6a62353a",
   "metadata": {},
   "outputs": [],
   "source": [
    "def post_selectionDS(samples, k):\n",
    "    n_subg = int(len(samples[0])/2/k)\n",
    "    accepted = [sample for sample in samples for i in range(n_subg) if all(sample[k*i:k*i+k]) == 1]\n",
    "    return accepted\n"
   ]
  },
  {
   "cell_type": "code",
   "execution_count": 7,
   "id": "981b94d7",
   "metadata": {},
   "outputs": [
    {
     "data": {
      "text/plain": [
       "[[1, 1, 1, 0, 0, 0, 0, 0, 0, 0, 0, 0], [0, 0, 0, 1, 1, 1, 0, 0, 0, 0, 0, 0]]"
      ]
     },
     "execution_count": 7,
     "metadata": {},
     "output_type": "execute_result"
    }
   ],
   "source": [
    "samples = [[1, 1, 1, 0, 0, 0, 0, 0, 0, 0, 0, 0], [0, 0, 0, 0, 0,\n",
    "                                                  0, 1, 1, 1, 0, 0, 0], [0, 0, 0, 1, 1, 1, 0, 0, 0, 0, 0, 0]]\n",
    "post_selectionDS(samples, 3)\n"
   ]
  },
  {
   "cell_type": "code",
   "execution_count": 8,
   "id": "f6d4c63f",
   "metadata": {},
   "outputs": [
    {
     "data": {
      "text/plain": [
       "array([1, 1, 1, 1, 0, 0, 0, 0, 0, 0, 0, 0, 0, 0, 0, 0, 0, 0, 0, 0, 0, 0,\n",
       "       0, 0, 0, 0, 0, 0, 0, 0, 0, 0, 0, 0, 0, 0, 0, 0, 0, 0])"
      ]
     },
     "execution_count": 8,
     "metadata": {},
     "output_type": "execute_result"
    }
   ],
   "source": [
    "def input_DS(m, k):\n",
    "    '''input state for selection columns\n",
    "             m - number of subgraphs\n",
    "             k - size of each subgraph (size to identify)\n",
    "        returns |1,1,1,...,0,0,0> k ones and k*m-k zeros'''\n",
    "    return np.append(np.append(np.ones(k), np.zeros(k*m-k)), np.zeros(k*m)).astype(int)\n",
    "\n",
    "input_DS(5, 4)\n"
   ]
  },
  {
   "cell_type": "code",
   "execution_count": 9,
   "id": "f7db1bde",
   "metadata": {},
   "outputs": [],
   "source": [
    "# Functions to generate the subgraphs to test\n",
    "def test_subgraphs(G, subG, size):\n",
    "    ''' inputs: \n",
    "                G - networkX graph \n",
    "                subG - list of nodes for selected subgraph\n",
    "                size - integer for size of subgraph to find\n",
    "        return:\n",
    "                all remaining possible subgraphs of size \"size\"-len(subG)'''\n",
    "\n",
    "    G_n = len(G.nodes)\n",
    "    subG_n = len(subG)\n",
    "    num_subgraphs = binom(G_n-subG_n, size-subG_n)\n",
    "    print(\"Number of possible subgraphs:\", num_subgraphs)\n",
    "\n",
    "    nodes = list(G.nodes)\n",
    "    test_nodes = [node for node in nodes if node not in subG]\n",
    "    test_list = list(itertools.combinations(test_nodes, size-subG_n))\n",
    "\n",
    "    poss_subg = [subG+list(i) for i in test_list]\n",
    "    return poss_subg\n"
   ]
  },
  {
   "cell_type": "markdown",
   "id": "013d9afd",
   "metadata": {},
   "source": [
    "#### Constructing the big matrix $\\mathcal{B}$:\n",
    "\n",
    "$$\\mathcal{B}:=\\begin{pmatrix} A_{\\mathbf{n_1},\\mathbf{n_1}} \\\\ A_{\\mathbf{n_2},\\mathbf{n_2}} \n",
    "    \\\\ . &&  0_{kM \\times kM-k}\n",
    "    \\\\ .\n",
    "    \\\\ .\n",
    "    \\\\ A_{\\mathbf{n_M},\\mathbf{n_M}} \\end{pmatrix}$$\n",
    "\n",
    "From the paper, we construct a matrix $\\mathcal{B}$ with the possible subgraph (of size $k$) combinations using a seed (of size $size_s$) from an optimized classical algorithm. Function *test_subgraphs()* returns these subgraphs and *construct_B()* combines them into a matrix of adjacency matrix of these subgraphs."
   ]
  },
  {
   "cell_type": "code",
   "execution_count": 10,
   "id": "bc17e5dc",
   "metadata": {},
   "outputs": [],
   "source": [
    "# Functions to generate the subgraphs to test\n",
    "def construct_B(G, subG, k):\n",
    "    ''' inputs: \n",
    "                G - networkX graph \n",
    "                subG - list of nodes for selected subgraph\n",
    "                k - integer for size of subgraph to find\n",
    "        return:\n",
    "                matrix B containing all possible subgraphs of size k - dimensions are k*len(sub_m), k*len(sub_m)'''\n",
    "\n",
    "    G_n = len(G.nodes)\n",
    "    subG_n = len(subG)\n",
    "    num_subgraphs = int(binom(G_n-subG_n, k-subG_n))\n",
    "    print(\"Number of combinations for subgraphs:\", num_subgraphs)\n",
    "\n",
    "    nodes = list(G.nodes)\n",
    "    test_nodes = [node for node in nodes if node not in subG]\n",
    "    test_list = list(itertools.combinations(test_nodes, k-subG_n))\n",
    "\n",
    "    poss_subg = [subG+list(i) for i in test_list]\n",
    "\n",
    "    # Construction of B\n",
    "    sub_m = [nx.convert_matrix.to_numpy_array(\n",
    "        G.subgraph(sub_nodes)) for sub_nodes in poss_subg]\n",
    "    B = np.zeros((k*num_subgraphs, k*num_subgraphs))\n",
    "    for i, j in enumerate(sub_m):\n",
    "        B[k*i:k*i+k, 0:k] = j\n",
    "    return (B, poss_subg)\n"
   ]
  },
  {
   "cell_type": "code",
   "execution_count": 86,
   "id": "562b5fef",
   "metadata": {},
   "outputs": [],
   "source": [
    "def densest_subgraphs(G, seed, k, nb_samples, Ns_min=100):\n",
    "    '''Input: G - networkX graph to test \n",
    "              Ns - number of samples to generate with quantum device\n",
    "              seed - subgraph identified from optimized classical algorithm\n",
    "    return: subgraphs by order of selection'''\n",
    "\n",
    "    # Initialization and preparing the device\n",
    "    B = construct_B(G, seed, k)\n",
    "    in_state = input_DS(int(len(B[0])/k), k)\n",
    "    U, c = functions.to_unitary(B[0])\n",
    "\n",
    "    unitary_component = comp.Unitary(pcvl.Matrix(U))\n",
    "    proc = pcvl.Processor(\"CliffordClifford2017\", unitary_component)\n",
    "    proc.with_input(pcvl.BasicState(in_state))\n",
    "\n",
    "    # generating samples\n",
    "    samples = []\n",
    "    i = 0\n",
    "    sampler = Sampler(proc)\n",
    "    while len(samples) < Ns_min:\n",
    "        samples_device = sampler.samples(nb_samples)['results']\n",
    "        new_generation_samples = post_selectionDS(samples_device, k)\n",
    "        samples += new_generation_samples\n",
    "        i = i+1\n",
    "\n",
    "    timesG = np.zeros(len(B[1]))\n",
    "    print(\"Number of samples: \", len(samples), \"\\nTotal samples generated:\", nb_samples*i)\n",
    "    for sample in samples:\n",
    "        indexG = list(sample).index(1)\n",
    "        timesG[int(indexG/k)] = timesG[int(indexG/k)]+1\n",
    "    return sorted(zip(timesG, B[1]), reverse=True)"
   ]
  },
  {
   "cell_type": "markdown",
   "id": "bbef1598",
   "metadata": {},
   "source": [
    "Now we are ready to test! Here you have an example."
   ]
  },
  {
   "cell_type": "code",
   "execution_count": 21,
   "id": "e746edcf",
   "metadata": {},
   "outputs": [
    {
     "data": {
      "image/png": "[encoded data removed]",
      "text/plain": [
       "<Figure size 432x288 with 1 Axes>"
      ]
     },
     "metadata": {},
     "output_type": "display_data"
    }
   ],
   "source": [
    "GA = functions.random_graph_generation(6, 0.3, 3, 1)\n",
    "nx.draw_networkx(GA)"
   ]
  },
  {
   "cell_type": "code",
   "execution_count": 23,
   "id": "c64b4936",
   "metadata": {},
   "outputs": [
    {
     "name": "stdout",
     "output_type": "stream",
     "text": [
      "Number of combinations for subgraphs: 10\n",
      "Number of samples:  200 \n",
      "Total samples generated: 205600\n",
      "[(102.0, [4, 0, 2]), (98.0, [4, 3, 5]), (0.0, [4, 2, 5]), (0.0, [4, 2, 3]), (0.0, [4, 1, 5]), (0.0, [4, 1, 3]), (0.0, [4, 1, 2]), (0.0, [4, 0, 5]), (0.0, [4, 0, 3]), (0.0, [4, 0, 1])]\n",
      "CPU times: user 24.8 s, sys: 183 ms, total: 25 s\n",
      "Wall time: 23.7 s\n"
     ]
    }
   ],
   "source": [
    "%%time\n",
    "res = densest_subgraphs(GA, [4], 3, 200, Ns_min=200)\n",
    "print(res)"
   ]
  },
  {
   "cell_type": "code",
   "execution_count": 91,
   "id": "9e622705",
   "metadata": {},
   "outputs": [
    {
     "name": "stdout",
     "output_type": "stream",
     "text": [
      "Number of combinations for subgraphs: 4\n",
      "Number of samples:  200 \n",
      "Total samples generated: 33200\n",
      "[(200.0, [2, 4, 0]), (0.0, [2, 4, 5]), (0.0, [2, 4, 3]), (0.0, [2, 4, 1])]\n",
      "CPU times: user 2.74 s, sys: 17.6 ms, total: 2.76 s\n",
      "Wall time: 2.81 s\n"
     ]
    }
   ],
   "source": [
    "%%time\n",
    "res = densest_subgraphs(GA, [2,4], 3, 200, Ns_min=200)\n",
    "print(res)"
   ]
  },
  {
   "cell_type": "markdown",
   "id": "0042a15e",
   "metadata": {},
   "source": [
    "Here we generate a graph and test with two seeds: $[4]$ and $[2,4]$. For the first, the code returns that $102$ samples selected the subgraph $[4,0,2]$ and $98$ samples selected $[4,3,5]$. From the graph we can confirm that these are the denser ones with, in fact, equal density that is translated to the output of the program. Other subgraphs were not outputted. For second seed, it corrected outputted only the state for $[2,4,0]$."
   ]
  }
 ],
 "metadata": {
  "interpreter": {
   "hash": "765bd6793ea5362367183dba09c599ce34c84eeeb7f3172847d560f9d0858670"
  },
  "kernelspec": {
   "display_name": "Python 3.9.12 ('base')",
   "language": "python",
   "name": "python3"
  },
  "language_info": {
   "codemirror_mode": {
    "name": "ipython",
    "version": 3
   },
   "file_extension": ".py",
   "mimetype": "text/x-python",
   "name": "python",
   "nbconvert_exporter": "python",
   "pygments_lexer": "ipython3",
   "version": "3.9.12"
  }
 },
 "nbformat": 4,
 "nbformat_minor": 5
}
